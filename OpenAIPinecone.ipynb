{
 "cells": [
  {
   "cell_type": "code",
   "execution_count": 1,
   "metadata": {},
   "outputs": [],
   "source": [
    "import pinecone\n",
    "import pandas as pd\n",
    "#pinecone.init(api_key=open(\"Pineconekey.txt\",\"r\").read(), environment=\"gcp-starter\")\n",
    "#pc = pinecone(api_key=open(\"Pineconekey.txt\",\"r\").read(), environment=\"gcp-starter\")   \n",
    "import os\n",
    "from pinecone import Pinecone, ServerlessSpec, PodSpec\n",
    "\n",
    "pc = Pinecone(api_key=open(\"Pineconekey.txt\",\"r\").read())\n"
   ]
  },
  {
   "cell_type": "code",
   "execution_count": 2,
   "metadata": {},
   "outputs": [],
   "source": [
    "pc.delete_index(\"alice\")"
   ]
  },
  {
   "cell_type": "code",
   "execution_count": 3,
   "metadata": {},
   "outputs": [
    {
     "name": "stdout",
     "output_type": "stream",
     "text": [
      "{'indexes': [{'dimension': 1536,\n",
      "              'host': 'alice-a980bfb.svc.gcp-starter.pinecone.io',\n",
      "              'metric': 'cosine',\n",
      "              'name': 'alice',\n",
      "              'spec': {'pod': {'environment': 'gcp-starter',\n",
      "                               'pod_type': 'starter',\n",
      "                               'pods': 1,\n",
      "                               'replicas': 1,\n",
      "                               'shards': 1}},\n",
      "              'status': {'ready': True, 'state': 'Ready'}}]}\n"
     ]
    }
   ],
   "source": [
    "pc.create_index(\n",
    "  name=\"alice\",\n",
    "  dimension=1536,\n",
    "  metric=\"cosine\",\n",
    "  spec=PodSpec(\n",
    "    environment=\"gcp-starter\",\n",
    "    pod_type=\"starter\",\n",
    "    pods=1\n",
    "  ))\n",
    "\n",
    "index = pc.Index(\"alice\")\n",
    "print(pc.list_indexes())"
   ]
  },
  {
   "cell_type": "code",
   "execution_count": 4,
   "metadata": {},
   "outputs": [
    {
     "data": {
      "text/html": [
       "<div>\n",
       "<style scoped>\n",
       "    .dataframe tbody tr th:only-of-type {\n",
       "        vertical-align: middle;\n",
       "    }\n",
       "\n",
       "    .dataframe tbody tr th {\n",
       "        vertical-align: top;\n",
       "    }\n",
       "\n",
       "    .dataframe thead th {\n",
       "        text-align: right;\n",
       "    }\n",
       "</style>\n",
       "<table border=\"1\" class=\"dataframe\">\n",
       "  <thead>\n",
       "    <tr style=\"text-align: right;\">\n",
       "      <th></th>\n",
       "      <th>id</th>\n",
       "      <th>values</th>\n",
       "    </tr>\n",
       "  </thead>\n",
       "  <tbody>\n",
       "    <tr>\n",
       "      <th>0</th>\n",
       "      <td>0</td>\n",
       "      <td>[-0.0009895042749121785, -0.003143131267279386...</td>\n",
       "    </tr>\n",
       "    <tr>\n",
       "      <th>1</th>\n",
       "      <td>1</td>\n",
       "      <td>[-0.005550594534724951, -0.002100438578054309,...</td>\n",
       "    </tr>\n",
       "    <tr>\n",
       "      <th>2</th>\n",
       "      <td>2</td>\n",
       "      <td>[-0.016373122110962868, -0.00787348672747612, ...</td>\n",
       "    </tr>\n",
       "    <tr>\n",
       "      <th>3</th>\n",
       "      <td>3</td>\n",
       "      <td>[-0.013116865418851376, -0.009315624833106995,...</td>\n",
       "    </tr>\n",
       "    <tr>\n",
       "      <th>4</th>\n",
       "      <td>4</td>\n",
       "      <td>[0.0011981818825006485, -0.009525999426841736,...</td>\n",
       "    </tr>\n",
       "  </tbody>\n",
       "</table>\n",
       "</div>"
      ],
      "text/plain": [
       "  id                                             values\n",
       "0  0  [-0.0009895042749121785, -0.003143131267279386...\n",
       "1  1  [-0.005550594534724951, -0.002100438578054309,...\n",
       "2  2  [-0.016373122110962868, -0.00787348672747612, ...\n",
       "3  3  [-0.013116865418851376, -0.009315624833106995,...\n",
       "4  4  [0.0011981818825006485, -0.009525999426841736,..."
      ]
     },
     "execution_count": 4,
     "metadata": {},
     "output_type": "execute_result"
    }
   ],
   "source": [
    "import pandas as pd\n",
    "import numpy as np\n",
    "\n",
    "datafile_path = \"data/Alice_with_embeddings.csv\"\n",
    "df = pd.read_csv(datafile_path)\n",
    "#df[\"embedding\"] = df.embedding.apply(eval).apply(np.array)\n",
    "df[\"embedding\"] = df[\"embedding\"].apply(eval)  # Convert string to Python list\n",
    "df[\"embedding\"] = df[\"embedding\"].apply(lambda arr: np.array(arr).tolist())  # Convert NumPy array to Python list\n",
    "\n",
    "df = df.rename(columns={\"Unnamed: 0\": \"id\", \"embedding\": \"values\", \"paragraph\": \"paragraph\"})\n",
    "\n",
    "dfvalues = df.copy()\n",
    "dfvalues.drop(\"paragraph\", axis=1, inplace=True)\n",
    "dfvalues['id'] = dfvalues['id'].astype(str)\n",
    "dfvalues.head()"
   ]
  },
  {
   "cell_type": "code",
   "execution_count": 5,
   "metadata": {},
   "outputs": [
    {
     "data": {
      "application/vnd.jupyter.widget-view+json": {
       "model_id": "fcff4209573b48efada823e82b1d705c",
       "version_major": 2,
       "version_minor": 0
      },
      "text/plain": [
       "sending upsert requests:   0%|          | 0/400 [00:00<?, ?it/s]"
      ]
     },
     "metadata": {},
     "output_type": "display_data"
    },
    {
     "data": {
      "application/vnd.jupyter.widget-view+json": {
       "model_id": "97f5a63edb3d4ab7b312abd70b1fba8a",
       "version_major": 2,
       "version_minor": 0
      },
      "text/plain": [
       "sending upsert requests:   0%|          | 0/399 [00:00<?, ?it/s]"
      ]
     },
     "metadata": {},
     "output_type": "display_data"
    },
    {
     "data": {
      "application/vnd.jupyter.widget-view+json": {
       "model_id": "79f50f6b47314bdeae411e67eef10141",
       "version_major": 2,
       "version_minor": 0
      },
      "text/plain": [
       "sending upsert requests:   0%|          | 0/15 [00:00<?, ?it/s]"
      ]
     },
     "metadata": {},
     "output_type": "display_data"
    },
    {
     "data": {
      "text/plain": [
       "{'upserted_count': 15}"
      ]
     },
     "execution_count": 5,
     "metadata": {},
     "output_type": "execute_result"
    }
   ],
   "source": [
    "index.upsert_from_dataframe(dfvalues[0:400])\n",
    "index.upsert_from_dataframe(dfvalues[401:800])\n",
    "index.upsert_from_dataframe(dfvalues[801:1000])\n"
   ]
  },
  {
   "cell_type": "code",
   "execution_count": 22,
   "metadata": {},
   "outputs": [
    {
     "name": "stdout",
     "output_type": "stream",
     "text": [
      "Index is ready!\n"
     ]
    }
   ],
   "source": [
    "from time import sleep\n",
    "\n",
    "ready = False\n",
    "while not ready:\n",
    "    try:\n",
    "        if pc.describe_index('alice')[\"status\"]['ready']:\n",
    "            ready = True\n",
    "            print('Index is ready!')\n",
    "        else:\n",
    "            print('Index is not ready yet...')\n",
    "            sleep(5)\n",
    "    except pc.core.client.exceptions.NotFoundException:\n",
    "        # NotFoundException means the index is created yet.\n",
    "        pass\n",
    "        "
   ]
  },
  {
   "cell_type": "code",
   "execution_count": 23,
   "metadata": {},
   "outputs": [
    {
     "data": {
      "text/plain": [
       "{'dimension': 1536,\n",
       " 'index_fullness': 0.00814,\n",
       " 'namespaces': {'': {'vector_count': 814}},\n",
       " 'total_vector_count': 814}"
      ]
     },
     "execution_count": 23,
     "metadata": {},
     "output_type": "execute_result"
    }
   ],
   "source": [
    "index.describe_index_stats()"
   ]
  },
  {
   "cell_type": "code",
   "execution_count": 24,
   "metadata": {},
   "outputs": [],
   "source": [
    "def searchdatabase(searchterm = 'Is Alice Happy?', results = 3):\n",
    "\n",
    "    #Get the embedding of the searchterm\n",
    "    import openai\n",
    "    openai.api_type = \"azure\"\n",
    "    openai.api_base = \"https://southcentralOpenAIral.openai.azure.com/\"\n",
    "    openai.api_version = \"2022-12-01\"\n",
    "    openai.api_key = open(\"AzurekeySCUS.txt\",\"r\").read()\n",
    "    from openai.embeddings_utils import get_embedding, cosine_similarity\n",
    "    query_embedding = get_embedding(searchterm,engine=\"textembeddingada002v2\")\n",
    "\n",
    "    ##Get the IDs\n",
    "    xc = index.query(vector=query_embedding,\n",
    "    top_k=results,\n",
    "    include_values=False)\n",
    "    c = [x[\"id\"] for x in xc[\"matches\"]]\n",
    "    dfres = pd.DataFrame(c, columns=['id'])\n",
    "    dfres['id'] = dfres['id'].astype(str)\n",
    "    dfres\n",
    "\n",
    "    ### join the IDs back to get the text\n",
    "    dfres['id'] = dfres['id'].astype(int)\n",
    "    df['id'] = df['id'].astype(int)\n",
    "    dffinalSearch = dfres.join(df, how='left', on='id',  lsuffix='_left', rsuffix='_right')\n",
    "\n",
    "    return dffinalSearch['paragraph'].to_list()\n"
   ]
  },
  {
   "cell_type": "code",
   "execution_count": 25,
   "metadata": {},
   "outputs": [],
   "source": [
    "index = pc.Index(\"alice\")"
   ]
  },
  {
   "cell_type": "code",
   "execution_count": 30,
   "metadata": {},
   "outputs": [
    {
     "data": {
      "text/plain": [
       "[\"'I've had nothing yet,' Alice replied in an offended tone, 'so I can't\\ntake more.'\",\n",
       " 'The Caterpillar and Alice looked at each other for some time in silence:\\nat last the Caterpillar took the hookah out of its mouth, and addressed\\nher in a languid, sleepy voice.',\n",
       " \"Soon her eye fell on a little glass box that was lying under the table:\\nshe opened it, and found in it a very small cake, on which the words\\n'EAT ME' were beautifully marked in currants. 'Well, I'll eat it,' said\\nAlice, 'and if it makes me grow larger, I can reach the key; and if it\\nmakes me grow smaller, I can creep under the door; so either way I'll\\nget into the garden, and I don't care which happens!'\",\n",
       " \"She ate a little bit, and said anxiously to herself, 'Which way? Which\\nway?', holding her hand on the top of her head to feel which way it was\\ngrowing, and she was quite surprised to find that she remained the same\\nsize: to be sure, this generally happens when one eats cake, but Alice\\nhad got so much into the way of expecting nothing but out-of-the-way\\nthings to happen, that it seemed quite dull and stupid for life to go on\\nin the common way.\",\n",
       " \"However, this bottle was NOT marked 'poison,' so Alice ventured to taste\\nit, and finding it very nice, (it had, in fact, a sort of mixed flavour\\nof cherry-tart, custard, pine-apple, roast turkey, toffee, and hot\\nbuttered toast,) she very soon finished it off.\"]"
      ]
     },
     "execution_count": 30,
     "metadata": {},
     "output_type": "execute_result"
    }
   ],
   "source": [
    "\n",
    "searchdatabase('What can you eat in wonderland?', 5)"
   ]
  },
  {
   "cell_type": "code",
   "execution_count": 31,
   "metadata": {},
   "outputs": [
    {
     "data": {
      "text/plain": [
       "{'matches': [{'id': '388', 'score': 0.8250615, 'values': []},\n",
       "             {'id': '151', 'score': 0.8171857, 'values': []},\n",
       "             {'id': '25', 'score': 0.806956, 'values': []},\n",
       "             {'id': '26', 'score': 0.802425802, 'values': []},\n",
       "             {'id': '17', 'score': 0.801261604, 'values': []},\n",
       "             {'id': '569', 'score': 0.798997343, 'values': []},\n",
       "             {'id': '637', 'score': 0.797648787, 'values': []},\n",
       "             {'id': '542', 'score': 0.797089219, 'values': []},\n",
       "             {'id': '143', 'score': 0.79491359, 'values': []},\n",
       "             {'id': '362', 'score': 0.793453038, 'values': []},\n",
       "             {'id': '794', 'score': 0.793062031, 'values': []},\n",
       "             {'id': '227', 'score': 0.792041123, 'values': []},\n",
       "             {'id': '408', 'score': 0.790407419, 'values': []},\n",
       "             {'id': '144', 'score': 0.790087283, 'values': []},\n",
       "             {'id': '16', 'score': 0.789170146, 'values': []}],\n",
       " 'namespace': '',\n",
       " 'usage': {'read_units': 5}}"
      ]
     },
     "execution_count": 31,
     "metadata": {},
     "output_type": "execute_result"
    }
   ],
   "source": [
    "#Get the embedding of the searchterm\n",
    "import openai\n",
    "openai.api_type = \"azure\"\n",
    "openai.api_base = \"https://southcentralOpenAIral.openai.azure.com/\"\n",
    "openai.api_version = \"2022-12-01\"\n",
    "openai.api_key = open(\"AzurekeySCUS.txt\",\"r\").read()\n",
    "from openai.embeddings_utils import get_embedding, cosine_similarity\n",
    "query_embedding = get_embedding(\"WHat can you eat in wonderland?\",engine=\"textembeddingada002v2\")\n",
    "\n",
    "#query the database\n",
    "index.query(vector=query_embedding,\n",
    "top_k=15,\n",
    "include_values=False)"
   ]
  }
 ],
 "metadata": {
  "kernelspec": {
   "display_name": "Python 3",
   "language": "python",
   "name": "python3"
  },
  "language_info": {
   "codemirror_mode": {
    "name": "ipython",
    "version": 3
   },
   "file_extension": ".py",
   "mimetype": "text/x-python",
   "name": "python",
   "nbconvert_exporter": "python",
   "pygments_lexer": "ipython3",
   "version": "3.10.10"
  },
  "orig_nbformat": 4
 },
 "nbformat": 4,
 "nbformat_minor": 2
}
